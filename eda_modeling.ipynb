{
 "cells": [
  {
   "cell_type": "code",
   "execution_count": 1,
   "id": "d6ba04d1-2237-444a-a8fb-dcfb40cc4b0f",
   "metadata": {
    "execution": {
     "iopub.execute_input": "2022-05-04T19:24:56.724218Z",
     "iopub.status.busy": "2022-05-04T19:24:56.723612Z",
     "iopub.status.idle": "2022-05-04T19:24:56.755696Z",
     "shell.execute_reply": "2022-05-04T19:24:56.754944Z",
     "shell.execute_reply.started": "2022-05-04T19:24:56.724149Z"
    },
    "tags": []
   },
   "outputs": [],
   "source": [
    "%load_ext autoreload\n",
    "%autoreload 2"
   ]
  },
  {
   "cell_type": "code",
   "execution_count": 2,
   "id": "16a6491f-3a0f-4f5e-b285-051e9e0bf7d0",
   "metadata": {
    "execution": {
     "iopub.execute_input": "2022-05-04T19:24:56.922246Z",
     "iopub.status.busy": "2022-05-04T19:24:56.921662Z",
     "iopub.status.idle": "2022-05-04T19:24:59.366528Z",
     "shell.execute_reply": "2022-05-04T19:24:59.365757Z",
     "shell.execute_reply.started": "2022-05-04T19:24:56.922181Z"
    },
    "tags": []
   },
   "outputs": [],
   "source": [
    "import os\n",
    "\n",
    "import pandas as pd\n",
    "import numpy as np\n",
    "import matplotlib.pyplot as plt\n",
    "\n",
    "from hr_predictor import ROOT_PATH, data_loader\n",
    "from hr_predictor.models import (\n",
    "    branch_input,\n",
    "    compute_error,\n",
    "    get_compiled_dense_model,\n",
    "    get_compiled_lstm_model,\n",
    "    get_compiled_dense_lstm_model\n",
    ")"
   ]
  },
  {
   "cell_type": "markdown",
   "id": "a05e8b90-3cdc-4088-b634-4f6f64ecb749",
   "metadata": {},
   "source": [
    "# Data handling\n",
    "\n",
    "- Creation of metadata dataframe\n",
    "- patient information addition\n",
    "- sync of hr and ppg signals\n",
    "- normalization and filtering of ppg signals\n",
    "- aggregation of data\n",
    "- train/test division by patient"
   ]
  },
  {
   "cell_type": "code",
   "execution_count": 3,
   "id": "c7f9020b-55db-4365-9bb3-caa9e33aa940",
   "metadata": {
    "execution": {
     "iopub.execute_input": "2022-05-04T19:24:59.368184Z",
     "iopub.status.busy": "2022-05-04T19:24:59.367997Z",
     "iopub.status.idle": "2022-05-04T19:24:59.408123Z",
     "shell.execute_reply": "2022-05-04T19:24:59.407502Z",
     "shell.execute_reply.started": "2022-05-04T19:24:59.368163Z"
    },
    "tags": []
   },
   "outputs": [
    {
     "data": {
      "text/html": [
       "<div>\n",
       "<style scoped>\n",
       "    .dataframe tbody tr th:only-of-type {\n",
       "        vertical-align: middle;\n",
       "    }\n",
       "\n",
       "    .dataframe tbody tr th {\n",
       "        vertical-align: top;\n",
       "    }\n",
       "\n",
       "    .dataframe thead th {\n",
       "        text-align: right;\n",
       "    }\n",
       "</style>\n",
       "<table border=\"1\" class=\"dataframe\">\n",
       "  <thead>\n",
       "    <tr style=\"text-align: right;\">\n",
       "      <th></th>\n",
       "      <th>filepaths</th>\n",
       "      <th>type</th>\n",
       "      <th>filpaths</th>\n",
       "      <th>patient</th>\n",
       "    </tr>\n",
       "  </thead>\n",
       "  <tbody>\n",
       "    <tr>\n",
       "      <th>0</th>\n",
       "      <td>4TU_processed/4TU_processed/P1LC2/P1LC2.csv</td>\n",
       "      <td>hr</td>\n",
       "      <td>/home/pedro/projects/loka/4TU_processed/4TU_pr...</td>\n",
       "      <td>P1LC2</td>\n",
       "    </tr>\n",
       "    <tr>\n",
       "      <th>1</th>\n",
       "      <td>4TU_processed/4TU_processed/P1LC2/P1LC2_ppg.csv</td>\n",
       "      <td>ppg</td>\n",
       "      <td>/home/pedro/projects/loka/4TU_processed/4TU_pr...</td>\n",
       "      <td>P1LC2</td>\n",
       "    </tr>\n",
       "    <tr>\n",
       "      <th>2</th>\n",
       "      <td>4TU_processed/4TU_processed/P1LC1/P1LC1_ppg.csv</td>\n",
       "      <td>ppg</td>\n",
       "      <td>/home/pedro/projects/loka/4TU_processed/4TU_pr...</td>\n",
       "      <td>P1LC1</td>\n",
       "    </tr>\n",
       "  </tbody>\n",
       "</table>\n",
       "</div>"
      ],
      "text/plain": [
       "                                         filepaths type  \\\n",
       "0      4TU_processed/4TU_processed/P1LC2/P1LC2.csv   hr   \n",
       "1  4TU_processed/4TU_processed/P1LC2/P1LC2_ppg.csv  ppg   \n",
       "2  4TU_processed/4TU_processed/P1LC1/P1LC1_ppg.csv  ppg   \n",
       "\n",
       "                                            filpaths patient  \n",
       "0  /home/pedro/projects/loka/4TU_processed/4TU_pr...   P1LC2  \n",
       "1  /home/pedro/projects/loka/4TU_processed/4TU_pr...   P1LC2  \n",
       "2  /home/pedro/projects/loka/4TU_processed/4TU_pr...   P1LC1  "
      ]
     },
     "execution_count": 3,
     "metadata": {},
     "output_type": "execute_result"
    }
   ],
   "source": [
    "metadata_df = data_loader.generate_metadata_df()\n",
    "metadata_df.head(3)"
   ]
  },
  {
   "cell_type": "code",
   "execution_count": 4,
   "id": "3d2c78f0-ad17-4228-8cd6-9594aee46f4a",
   "metadata": {
    "execution": {
     "iopub.execute_input": "2022-05-04T19:24:59.409443Z",
     "iopub.status.busy": "2022-05-04T19:24:59.409269Z",
     "iopub.status.idle": "2022-05-04T19:25:00.105411Z",
     "shell.execute_reply": "2022-05-04T19:25:00.104701Z",
     "shell.execute_reply.started": "2022-05-04T19:24:59.409423Z"
    },
    "tags": []
   },
   "outputs": [
    {
     "name": "stdout",
     "output_type": "stream",
     "text": [
      "(8968, 2) (9019, 7) (2242, 10)\n",
      "(5516, 2) (5567, 7) (1362, 10)\n",
      "(5511, 2) (5562, 7) (1361, 10)\n",
      "(5630, 2) (5681, 7) (1391, 10)\n",
      "(5492, 2) (5543, 7) (1356, 10)\n",
      "(5507, 2) (5558, 7) (1360, 10)\n",
      "(5503, 2) (5554, 7) (1376, 10)\n",
      "(5461, 2) (5555, 7) (1348, 10)\n",
      "(5701, 2) (5860, 7) (1426, 10)\n",
      "(5803, 2) (5855, 7) (1434, 10)\n",
      "(5650, 2) (5701, 7) (1413, 10)\n",
      "(5393, 2) (5466, 7) (1332, 10)\n",
      "(5378, 2) (5429, 7) (1328, 10)\n",
      "(5364, 2) (5415, 7) (1324, 10)\n",
      "(5403, 2) (5454, 7) (1334, 10)\n",
      "(5399, 2) (5450, 7) (1333, 10)\n",
      "(5521, 2) (5583, 7) (1364, 10)\n",
      "(5375, 2) (5426, 7) (1327, 10)\n",
      "(5381, 2) (5432, 7) (1328, 10)\n",
      "(5380, 2) (5431, 7) (1345, 10)\n"
     ]
    },
    {
     "data": {
      "text/html": [
       "<div>\n",
       "<style scoped>\n",
       "    .dataframe tbody tr th:only-of-type {\n",
       "        vertical-align: middle;\n",
       "    }\n",
       "\n",
       "    .dataframe tbody tr th {\n",
       "        vertical-align: top;\n",
       "    }\n",
       "\n",
       "    .dataframe thead th {\n",
       "        text-align: right;\n",
       "    }\n",
       "</style>\n",
       "<table border=\"1\" class=\"dataframe\">\n",
       "  <thead>\n",
       "    <tr style=\"text-align: right;\">\n",
       "      <th></th>\n",
       "      <th>patient</th>\n",
       "      <th>train_test</th>\n",
       "      <th>B_raw</th>\n",
       "      <th>G_raw</th>\n",
       "      <th>R_raw</th>\n",
       "      <th>Time[ms]</th>\n",
       "      <th>R</th>\n",
       "      <th>G</th>\n",
       "      <th>B</th>\n",
       "      <th>HR[bpm]</th>\n",
       "    </tr>\n",
       "  </thead>\n",
       "  <tbody>\n",
       "    <tr>\n",
       "      <th>0</th>\n",
       "      <td>P1H1</td>\n",
       "      <td>train</td>\n",
       "      <td>118.554303</td>\n",
       "      <td>100.327118</td>\n",
       "      <td>85.795620</td>\n",
       "      <td>883.25</td>\n",
       "      <td>0.148813</td>\n",
       "      <td>0.144301</td>\n",
       "      <td>0.331863</td>\n",
       "      <td>170.55045</td>\n",
       "    </tr>\n",
       "    <tr>\n",
       "      <th>1</th>\n",
       "      <td>P1H1</td>\n",
       "      <td>train</td>\n",
       "      <td>118.355889</td>\n",
       "      <td>99.905828</td>\n",
       "      <td>85.642339</td>\n",
       "      <td>1016.75</td>\n",
       "      <td>0.329493</td>\n",
       "      <td>0.440842</td>\n",
       "      <td>0.297348</td>\n",
       "      <td>170.52630</td>\n",
       "    </tr>\n",
       "    <tr>\n",
       "      <th>2</th>\n",
       "      <td>P1H1</td>\n",
       "      <td>train</td>\n",
       "      <td>118.271530</td>\n",
       "      <td>100.077774</td>\n",
       "      <td>85.841903</td>\n",
       "      <td>1150.00</td>\n",
       "      <td>0.439008</td>\n",
       "      <td>0.648105</td>\n",
       "      <td>0.531917</td>\n",
       "      <td>170.14920</td>\n",
       "    </tr>\n",
       "  </tbody>\n",
       "</table>\n",
       "</div>"
      ],
      "text/plain": [
       "  patient train_test       B_raw       G_raw      R_raw  Time[ms]         R  \\\n",
       "0    P1H1      train  118.554303  100.327118  85.795620    883.25  0.148813   \n",
       "1    P1H1      train  118.355889   99.905828  85.642339   1016.75  0.329493   \n",
       "2    P1H1      train  118.271530  100.077774  85.841903   1150.00  0.439008   \n",
       "\n",
       "          G         B    HR[bpm]  \n",
       "0  0.144301  0.331863  170.55045  \n",
       "1  0.440842  0.297348  170.52630  \n",
       "2  0.648105  0.531917  170.14920  "
      ]
     },
     "execution_count": 4,
     "metadata": {},
     "output_type": "execute_result"
    }
   ],
   "source": [
    "pat_data_df = data_loader.aggregate_patient_data(metadata_df,\n",
    "                                                 downsampling_ratio=4)\n",
    "\n",
    "pat_data_df.head(3)"
   ]
  },
  {
   "cell_type": "markdown",
   "id": "7043b11d-8272-4343-81a1-68de5a8b8a38",
   "metadata": {
    "tags": []
   },
   "source": [
    "# EDA"
   ]
  },
  {
   "cell_type": "markdown",
   "id": "cd62a49b-85af-48df-87ef-f872a04400ec",
   "metadata": {},
   "source": [
    "## Number of patients"
   ]
  },
  {
   "cell_type": "code",
   "execution_count": 5,
   "id": "9e346d11-16aa-4fe7-82de-8b3fab476efb",
   "metadata": {
    "execution": {
     "iopub.execute_input": "2022-05-04T19:25:05.523797Z",
     "iopub.status.busy": "2022-05-04T19:25:05.523177Z",
     "iopub.status.idle": "2022-05-04T19:25:05.576085Z",
     "shell.execute_reply": "2022-05-04T19:25:05.575389Z",
     "shell.execute_reply.started": "2022-05-04T19:25:05.523730Z"
    },
    "tags": []
   },
   "outputs": [
    {
     "name": "stdout",
     "output_type": "stream",
     "text": [
      "(20, 9)\n"
     ]
    }
   ],
   "source": [
    "print(pat_data_df.groupby(\"patient\").count().shape)"
   ]
  },
  {
   "cell_type": "markdown",
   "id": "e7e37228-4135-43ec-af71-94dec24d463a",
   "metadata": {},
   "source": [
    "## Plotting the raw signals"
   ]
  },
  {
   "cell_type": "code",
   "execution_count": 6,
   "id": "275312a3-f8ca-4c75-9d4b-a86105dfa8f4",
   "metadata": {
    "execution": {
     "iopub.execute_input": "2022-05-04T19:25:06.345605Z",
     "iopub.status.busy": "2022-05-04T19:25:06.344990Z",
     "iopub.status.idle": "2022-05-04T19:25:06.952055Z",
     "shell.execute_reply": "2022-05-04T19:25:06.951385Z",
     "shell.execute_reply.started": "2022-05-04T19:25:06.345540Z"
    },
    "scrolled": true,
    "tags": []
   },
   "outputs": [
    {
     "data": {
      "image/png": "[encoded data removed]",
      "text/plain": [
       "<Figure size 1440x360 with 4 Axes>"
      ]
     },
     "metadata": {
      "needs_background": "light"
     },
     "output_type": "display_data"
    }
   ],
   "source": [
    "for pat in pat_data_df[\"patient\"][:1].unique():\n",
    "    fig, axes = plt.subplots(nrows=1, ncols=4, figsize=(20,5))\n",
    "    pat_data_df[pat_data_df[\"patient\"] == pat] \\\n",
    "        .plot(x=\"Time[ms]\", y=\"HR[bpm]\", ax=axes[0], title=\"HR[bpm]\")\n",
    "    pat_data_df[pat_data_df[\"patient\"] == pat] \\\n",
    "        .plot(x=\"Time[ms]\", y=\"R_raw\", ax=axes[1], title=\"R_raw\")\n",
    "    pat_data_df[pat_data_df[\"patient\"] == pat] \\\n",
    "        .plot(x=\"Time[ms]\", y=\"G_raw\", ax=axes[2], title=\"G_raw\")\n",
    "    pat_data_df[pat_data_df[\"patient\"] == pat] \\\n",
    "        .plot(x=\"Time[ms]\", y=\"B_raw\", ax=axes[3], title=\"B_raw\")"
   ]
  },
  {
   "cell_type": "markdown",
   "id": "91abddfd-e2f0-401b-8189-5b37f63f278e",
   "metadata": {},
   "source": [
    "## Plotting the processed signals"
   ]
  },
  {
   "cell_type": "code",
   "execution_count": 7,
   "id": "8a9918b4-f407-46b3-b8e4-426197803d4d",
   "metadata": {
    "execution": {
     "iopub.execute_input": "2022-05-04T19:25:07.044705Z",
     "iopub.status.busy": "2022-05-04T19:25:07.044100Z",
     "iopub.status.idle": "2022-05-04T19:25:07.669149Z",
     "shell.execute_reply": "2022-05-04T19:25:07.668477Z",
     "shell.execute_reply.started": "2022-05-04T19:25:07.044636Z"
    },
    "scrolled": true,
    "tags": []
   },
   "outputs": [
    {
     "data": {
      "image/png": "[encoded data removed]",
      "text/plain": [
       "<Figure size 1440x360 with 4 Axes>"
      ]
     },
     "metadata": {
      "needs_background": "light"
     },
     "output_type": "display_data"
    }
   ],
   "source": [
    "for pat in pat_data_df[\"patient\"][:1].unique():\n",
    "    fig, axes = plt.subplots(nrows=1, ncols=4, figsize=(20,5))\n",
    "    pat_data_df[pat_data_df[\"patient\"] == pat] \\\n",
    "        .plot(x=\"Time[ms]\", y=\"HR[bpm]\", ax=axes[0], title=\"HR[bpm]\")\n",
    "    pat_data_df[pat_data_df[\"patient\"] == pat] \\\n",
    "        .plot(x=\"Time[ms]\", y=\"R\", ax=axes[1], title=\"R\")\n",
    "    pat_data_df[pat_data_df[\"patient\"] == pat] \\\n",
    "        .plot(x=\"Time[ms]\", y=\"G\", ax=axes[2], title=\"G\")\n",
    "    pat_data_df[pat_data_df[\"patient\"] == pat] \\\n",
    "        .plot(x=\"Time[ms]\", y=\"B\", ax=axes[3], title=\"B\")"
   ]
  },
  {
   "cell_type": "markdown",
   "id": "8b8982a9-dd0f-4ca4-b4ac-41610d122339",
   "metadata": {},
   "source": [
    "## Samples per patient"
   ]
  },
  {
   "cell_type": "code",
   "execution_count": 8,
   "id": "a6ae2c31-136a-40dd-b3bf-45e2837700b6",
   "metadata": {
    "execution": {
     "iopub.execute_input": "2022-05-04T19:25:07.670418Z",
     "iopub.status.busy": "2022-05-04T19:25:07.670237Z",
     "iopub.status.idle": "2022-05-04T19:25:07.704695Z",
     "shell.execute_reply": "2022-05-04T19:25:07.704071Z",
     "shell.execute_reply.started": "2022-05-04T19:25:07.670396Z"
    },
    "tags": []
   },
   "outputs": [
    {
     "data": {
      "text/html": [
       "<div>\n",
       "<style scoped>\n",
       "    .dataframe tbody tr th:only-of-type {\n",
       "        vertical-align: middle;\n",
       "    }\n",
       "\n",
       "    .dataframe tbody tr th {\n",
       "        vertical-align: top;\n",
       "    }\n",
       "\n",
       "    .dataframe thead th {\n",
       "        text-align: right;\n",
       "    }\n",
       "</style>\n",
       "<table border=\"1\" class=\"dataframe\">\n",
       "  <thead>\n",
       "    <tr style=\"text-align: right;\">\n",
       "      <th></th>\n",
       "      <th>Time[ms]</th>\n",
       "    </tr>\n",
       "    <tr>\n",
       "      <th>patient</th>\n",
       "      <th></th>\n",
       "    </tr>\n",
       "  </thead>\n",
       "  <tbody>\n",
       "    <tr>\n",
       "      <th>P1H1</th>\n",
       "      <td>2242</td>\n",
       "    </tr>\n",
       "    <tr>\n",
       "      <th>P1LC1</th>\n",
       "      <td>1362</td>\n",
       "    </tr>\n",
       "    <tr>\n",
       "      <th>P1LC2</th>\n",
       "      <td>1361</td>\n",
       "    </tr>\n",
       "    <tr>\n",
       "      <th>P1LC3</th>\n",
       "      <td>1391</td>\n",
       "    </tr>\n",
       "    <tr>\n",
       "      <th>P1LC4</th>\n",
       "      <td>1356</td>\n",
       "    </tr>\n",
       "    <tr>\n",
       "      <th>P1LC5</th>\n",
       "      <td>1360</td>\n",
       "    </tr>\n",
       "    <tr>\n",
       "      <th>P1LC6</th>\n",
       "      <td>1376</td>\n",
       "    </tr>\n",
       "    <tr>\n",
       "      <th>P1LC7</th>\n",
       "      <td>1348</td>\n",
       "    </tr>\n",
       "    <tr>\n",
       "      <th>P1M1</th>\n",
       "      <td>1426</td>\n",
       "    </tr>\n",
       "    <tr>\n",
       "      <th>P1M2</th>\n",
       "      <td>1434</td>\n",
       "    </tr>\n",
       "    <tr>\n",
       "      <th>P1M3</th>\n",
       "      <td>1413</td>\n",
       "    </tr>\n",
       "    <tr>\n",
       "      <th>P2LC1</th>\n",
       "      <td>1332</td>\n",
       "    </tr>\n",
       "    <tr>\n",
       "      <th>P2LC2</th>\n",
       "      <td>1328</td>\n",
       "    </tr>\n",
       "    <tr>\n",
       "      <th>P2LC3</th>\n",
       "      <td>1324</td>\n",
       "    </tr>\n",
       "    <tr>\n",
       "      <th>P2LC4</th>\n",
       "      <td>1334</td>\n",
       "    </tr>\n",
       "    <tr>\n",
       "      <th>P2LC5</th>\n",
       "      <td>1333</td>\n",
       "    </tr>\n",
       "    <tr>\n",
       "      <th>P3LC2</th>\n",
       "      <td>1364</td>\n",
       "    </tr>\n",
       "    <tr>\n",
       "      <th>P3LC3</th>\n",
       "      <td>1327</td>\n",
       "    </tr>\n",
       "    <tr>\n",
       "      <th>P3LC4</th>\n",
       "      <td>1328</td>\n",
       "    </tr>\n",
       "    <tr>\n",
       "      <th>P3LC5</th>\n",
       "      <td>1345</td>\n",
       "    </tr>\n",
       "  </tbody>\n",
       "</table>\n",
       "</div>"
      ],
      "text/plain": [
       "         Time[ms]\n",
       "patient          \n",
       "P1H1         2242\n",
       "P1LC1        1362\n",
       "P1LC2        1361\n",
       "P1LC3        1391\n",
       "P1LC4        1356\n",
       "P1LC5        1360\n",
       "P1LC6        1376\n",
       "P1LC7        1348\n",
       "P1M1         1426\n",
       "P1M2         1434\n",
       "P1M3         1413\n",
       "P2LC1        1332\n",
       "P2LC2        1328\n",
       "P2LC3        1324\n",
       "P2LC4        1334\n",
       "P2LC5        1333\n",
       "P3LC2        1364\n",
       "P3LC3        1327\n",
       "P3LC4        1328\n",
       "P3LC5        1345"
      ]
     },
     "execution_count": 8,
     "metadata": {},
     "output_type": "execute_result"
    }
   ],
   "source": [
    "pat_data_df.groupby(\"patient\")[[\"Time[ms]\"]].count()"
   ]
  },
  {
   "cell_type": "markdown",
   "id": "f8909300-b227-49a5-a962-edfb79d07f20",
   "metadata": {},
   "source": [
    "# HR Prediction"
   ]
  },
  {
   "cell_type": "markdown",
   "id": "46a268f8-a3aa-4a59-9777-878386240255",
   "metadata": {},
   "source": [
    "Multiple alternatives can be done:\n",
    "- the easiest one is using signal processing alone. In the literature this\n",
    "problem is solved using only the frequency domain, or peak counting\n",
    "\n",
    "- a la machine learning: historical features (mean, std, avg, signal\n",
    "  processing features) + a model such as a LogReg/RandomForest neatly wrapped in a\n",
    "  sklearn pipeline\n",
    "\n",
    "- a la deep learning: feed a portion of a signal to a neural network based on\n",
    "LSTM or FC layers\n",
    "    \n",
    "In all the alternatives above the objective will be predicting the n+1 HR based\n",
    "on n-N_samples, where N_samples is the period of time used to obtain the HR.\n",
    "\n",
    "For this test I'll be going with the latter approach, although it is not the most\n",
    "conservative approach I'm certain I have the proper domain knowledge to build\n",
    "meaningful features."
   ]
  },
  {
   "cell_type": "markdown",
   "id": "466a995c-3152-472c-8fab-3c48cf1b95ed",
   "metadata": {},
   "source": [
    "## Train test split and timeseries processing"
   ]
  },
  {
   "cell_type": "code",
   "execution_count": 9,
   "id": "171d94be-c1d2-4be4-900b-005db24d076f",
   "metadata": {
    "execution": {
     "iopub.execute_input": "2022-05-04T19:25:09.254749Z",
     "iopub.status.busy": "2022-05-04T19:25:09.254126Z",
     "iopub.status.idle": "2022-05-04T19:25:09.299782Z",
     "shell.execute_reply": "2022-05-04T19:25:09.299160Z",
     "shell.execute_reply.started": "2022-05-04T19:25:09.254681Z"
    },
    "tags": []
   },
   "outputs": [
    {
     "data": {
      "text/plain": [
       "0.1335"
      ]
     },
     "execution_count": 9,
     "metadata": {},
     "output_type": "execute_result"
    }
   ],
   "source": [
    "period = (pat_data_df[\"Time[ms]\"].values[1] - pat_data_df[\"Time[ms]\"].values[0]) / 1000\n",
    "# period in seconds in between samples\n",
    "period"
   ]
  },
  {
   "cell_type": "code",
   "execution_count": 10,
   "id": "a71081eb-d0ec-40ec-ad29-9b3b5682d7dd",
   "metadata": {
    "execution": {
     "iopub.execute_input": "2022-05-04T19:25:15.122980Z",
     "iopub.status.busy": "2022-05-04T19:25:15.122373Z",
     "iopub.status.idle": "2022-05-04T19:25:46.137869Z",
     "shell.execute_reply": "2022-05-04T19:25:46.137029Z",
     "shell.execute_reply.started": "2022-05-04T19:25:15.122915Z"
    },
    "scrolled": true,
    "tags": []
   },
   "outputs": [
    {
     "name": "stdout",
     "output_type": "stream",
     "text": [
      "getting train timeseries\n",
      "Patient: P1H1\n"
     ]
    },
    {
     "name": "stderr",
     "output_type": "stream",
     "text": [
      "100%|██████████| 2141/2141 [00:02<00:00, 845.75it/s]\n"
     ]
    },
    {
     "name": "stdout",
     "output_type": "stream",
     "text": [
      "Patient: P1LC3\n"
     ]
    },
    {
     "name": "stderr",
     "output_type": "stream",
     "text": [
      "100%|██████████| 1290/1290 [00:01<00:00, 840.05it/s]\n"
     ]
    },
    {
     "name": "stdout",
     "output_type": "stream",
     "text": [
      "Patient: P1LC5\n"
     ]
    },
    {
     "name": "stderr",
     "output_type": "stream",
     "text": [
      "100%|██████████| 1259/1259 [00:01<00:00, 860.10it/s]\n"
     ]
    },
    {
     "name": "stdout",
     "output_type": "stream",
     "text": [
      "Patient: P1LC6\n"
     ]
    },
    {
     "name": "stderr",
     "output_type": "stream",
     "text": [
      "100%|██████████| 1275/1275 [00:01<00:00, 847.32it/s]\n"
     ]
    },
    {
     "name": "stdout",
     "output_type": "stream",
     "text": [
      "Patient: P1LC7\n"
     ]
    },
    {
     "name": "stderr",
     "output_type": "stream",
     "text": [
      "100%|██████████| 1247/1247 [00:01<00:00, 832.27it/s]\n"
     ]
    },
    {
     "name": "stdout",
     "output_type": "stream",
     "text": [
      "Patient: P1M1\n"
     ]
    },
    {
     "name": "stderr",
     "output_type": "stream",
     "text": [
      "100%|██████████| 1325/1325 [00:01<00:00, 840.77it/s]\n"
     ]
    },
    {
     "name": "stdout",
     "output_type": "stream",
     "text": [
      "Patient: P1M2\n"
     ]
    },
    {
     "name": "stderr",
     "output_type": "stream",
     "text": [
      "100%|██████████| 1333/1333 [00:01<00:00, 841.93it/s]\n"
     ]
    },
    {
     "name": "stdout",
     "output_type": "stream",
     "text": [
      "Patient: P1M3\n"
     ]
    },
    {
     "name": "stderr",
     "output_type": "stream",
     "text": [
      "100%|██████████| 1312/1312 [00:01<00:00, 847.02it/s]\n"
     ]
    },
    {
     "name": "stdout",
     "output_type": "stream",
     "text": [
      "Patient: P2LC1\n"
     ]
    },
    {
     "name": "stderr",
     "output_type": "stream",
     "text": [
      "100%|██████████| 1231/1231 [00:01<00:00, 825.38it/s]\n"
     ]
    },
    {
     "name": "stdout",
     "output_type": "stream",
     "text": [
      "Patient: P2LC2\n"
     ]
    },
    {
     "name": "stderr",
     "output_type": "stream",
     "text": [
      "100%|██████████| 1227/1227 [00:01<00:00, 842.26it/s]\n"
     ]
    },
    {
     "name": "stdout",
     "output_type": "stream",
     "text": [
      "Patient: P2LC3\n"
     ]
    },
    {
     "name": "stderr",
     "output_type": "stream",
     "text": [
      "100%|██████████| 1223/1223 [00:01<00:00, 849.83it/s]\n"
     ]
    },
    {
     "name": "stdout",
     "output_type": "stream",
     "text": [
      "Patient: P2LC4\n"
     ]
    },
    {
     "name": "stderr",
     "output_type": "stream",
     "text": [
      "100%|██████████| 1233/1233 [00:01<00:00, 855.47it/s]\n"
     ]
    },
    {
     "name": "stdout",
     "output_type": "stream",
     "text": [
      "Patient: P2LC5\n"
     ]
    },
    {
     "name": "stderr",
     "output_type": "stream",
     "text": [
      "100%|██████████| 1232/1232 [00:01<00:00, 841.80it/s]\n"
     ]
    },
    {
     "name": "stdout",
     "output_type": "stream",
     "text": [
      "Patient: P3LC2\n"
     ]
    },
    {
     "name": "stderr",
     "output_type": "stream",
     "text": [
      "100%|██████████| 1263/1263 [00:01<00:00, 835.34it/s]\n"
     ]
    },
    {
     "name": "stdout",
     "output_type": "stream",
     "text": [
      "Patient: P3LC3\n"
     ]
    },
    {
     "name": "stderr",
     "output_type": "stream",
     "text": [
      "100%|██████████| 1226/1226 [00:01<00:00, 848.50it/s]\n"
     ]
    },
    {
     "name": "stdout",
     "output_type": "stream",
     "text": [
      "getting test timeseries\n",
      "Patient: P1LC1\n"
     ]
    },
    {
     "name": "stderr",
     "output_type": "stream",
     "text": [
      "100%|██████████| 1261/1261 [00:01<00:00, 846.70it/s]\n"
     ]
    },
    {
     "name": "stdout",
     "output_type": "stream",
     "text": [
      "Patient: P1LC2\n"
     ]
    },
    {
     "name": "stderr",
     "output_type": "stream",
     "text": [
      "100%|██████████| 1260/1260 [00:01<00:00, 853.59it/s]\n"
     ]
    },
    {
     "name": "stdout",
     "output_type": "stream",
     "text": [
      "Patient: P1LC4\n"
     ]
    },
    {
     "name": "stderr",
     "output_type": "stream",
     "text": [
      "100%|██████████| 1255/1255 [00:01<00:00, 876.35it/s]\n"
     ]
    },
    {
     "name": "stdout",
     "output_type": "stream",
     "text": [
      "Patient: P3LC4\n"
     ]
    },
    {
     "name": "stderr",
     "output_type": "stream",
     "text": [
      "100%|██████████| 1227/1227 [00:01<00:00, 896.77it/s]\n"
     ]
    },
    {
     "name": "stdout",
     "output_type": "stream",
     "text": [
      "Patient: P3LC5\n"
     ]
    },
    {
     "name": "stderr",
     "output_type": "stream",
     "text": [
      "100%|██████████| 1244/1244 [00:01<00:00, 857.31it/s]\n"
     ]
    }
   ],
   "source": [
    "# covering 6s of signal to make a predicting\n",
    "INPUT_WIDTH = 100\n",
    "\n",
    "# shuffling\n",
    "pat_data_df = pat_data_df.sample(frac=1)\n",
    "\n",
    "train_df = pat_data_df[pat_data_df[\"train_test\"] == \"train\"]\n",
    "test_df = pat_data_df[pat_data_df[\"train_test\"] == \"test\"]\n",
    "\n",
    "print(\"getting train timeseries\")\n",
    "x_data_train, y_data_train = data_loader.process_timeseries_data(\n",
    "    train_df,\n",
    "    input_width=INPUT_WIDTH\n",
    ")\n",
    "print(\"getting test timeseries\")\n",
    "x_data_test, y_data_test = data_loader.process_timeseries_data(\n",
    "    test_df,\n",
    "    input_width=INPUT_WIDTH\n",
    ")\n"
   ]
  },
  {
   "cell_type": "markdown",
   "id": "2dab85ba-5b12-44cc-94a4-4c9589724052",
   "metadata": {},
   "source": [
    "## LSTM Only network"
   ]
  },
  {
   "cell_type": "code",
   "execution_count": 33,
   "id": "aff179b7-e6b9-4458-9571-6af72c1f06b3",
   "metadata": {
    "execution": {
     "iopub.execute_input": "2022-05-04T19:41:45.289015Z",
     "iopub.status.busy": "2022-05-04T19:41:45.288335Z",
     "iopub.status.idle": "2022-05-04T19:41:45.557504Z",
     "shell.execute_reply": "2022-05-04T19:41:45.556754Z",
     "shell.execute_reply.started": "2022-05-04T19:41:45.288946Z"
    },
    "tags": []
   },
   "outputs": [
    {
     "name": "stdout",
     "output_type": "stream",
     "text": [
      " input_shape: (100, 3) \n",
      " x_data_train shape: (19817, 100, 3)\n"
     ]
    }
   ],
   "source": [
    "input_shape = (x_data_train.shape[1], x_data_train.shape[2])\n",
    "print(\" input_shape:\", input_shape,\n",
    "      \"\\n x_data_train shape:\", x_data_train.shape)\n",
    "\n",
    "lstm_model = get_compiled_lstm_model(input_shape)"
   ]
  },
  {
   "cell_type": "code",
   "execution_count": 34,
   "id": "57d972b8-5f87-4a5b-b432-5ad9431dcca0",
   "metadata": {
    "execution": {
     "iopub.execute_input": "2022-05-04T19:41:45.558986Z",
     "iopub.status.busy": "2022-05-04T19:41:45.558637Z",
     "iopub.status.idle": "2022-05-04T19:46:13.565806Z",
     "shell.execute_reply": "2022-05-04T19:46:13.564294Z",
     "shell.execute_reply.started": "2022-05-04T19:41:45.558962Z"
    },
    "tags": []
   },
   "outputs": [
    {
     "name": "stdout",
     "output_type": "stream",
     "text": [
      "Epoch 1/15\n",
      "39/39 [==============================] - 20s 475ms/step - loss: 5785.0249 - val_loss: 3976.8154\n",
      "Epoch 2/15\n",
      "39/39 [==============================] - 18s 455ms/step - loss: 4402.0991 - val_loss: 3368.0747\n",
      "Epoch 3/15\n",
      "39/39 [==============================] - 18s 458ms/step - loss: 3841.1526 - val_loss: 2915.6235\n",
      "Epoch 4/15\n",
      "39/39 [==============================] - 18s 456ms/step - loss: 3392.9233 - val_loss: 2544.5891\n",
      "Epoch 5/15\n",
      "39/39 [==============================] - 18s 454ms/step - loss: 3009.6460 - val_loss: 2225.3506\n",
      "Epoch 6/15\n",
      "39/39 [==============================] - 18s 451ms/step - loss: 2676.6606 - val_loss: 1948.1205\n",
      "Epoch 7/15\n",
      "39/39 [==============================] - 18s 455ms/step - loss: 2385.7434 - val_loss: 1707.7692\n",
      "Epoch 8/15\n",
      "39/39 [==============================] - 18s 456ms/step - loss: 2128.6907 - val_loss: 1498.9009\n",
      "Epoch 9/15\n",
      "39/39 [==============================] - 18s 457ms/step - loss: 1902.3790 - val_loss: 1319.2551\n",
      "Epoch 10/15\n",
      "39/39 [==============================] - 18s 457ms/step - loss: 1708.7524 - val_loss: 1165.0696\n",
      "Epoch 11/15\n",
      "39/39 [==============================] - 18s 457ms/step - loss: 1538.2428 - val_loss: 1033.7510\n",
      "Epoch 12/15\n",
      "39/39 [==============================] - 18s 459ms/step - loss: 1391.3158 - val_loss: 922.4066\n",
      "Epoch 13/15\n",
      "39/39 [==============================] - 18s 455ms/step - loss: 1264.1027 - val_loss: 829.0645\n",
      "Epoch 14/15\n",
      "39/39 [==============================] - 18s 454ms/step - loss: 1157.3887 - val_loss: 751.6660\n",
      "Epoch 15/15\n",
      "39/39 [==============================] - 18s 452ms/step - loss: 1064.9720 - val_loss: 688.0997\n"
     ]
    }
   ],
   "source": [
    "history = lstm_model.fit(\n",
    "    x_data_train,\n",
    "    y_data_train.round(),\n",
    "    epochs=15,\n",
    "    batch_size=512,\n",
    "    validation_data=(\n",
    "        x_data_test,\n",
    "        y_data_test.round()\n",
    "    )\n",
    ")"
   ]
  },
  {
   "cell_type": "code",
   "execution_count": 35,
   "id": "63b017fb-eae0-496f-884d-13f9e2527063",
   "metadata": {
    "execution": {
     "iopub.execute_input": "2022-05-04T19:46:13.569304Z",
     "iopub.status.busy": "2022-05-04T19:46:13.568927Z",
     "iopub.status.idle": "2022-05-04T19:46:21.021818Z",
     "shell.execute_reply": "2022-05-04T19:46:21.020022Z",
     "shell.execute_reply.started": "2022-05-04T19:46:13.569257Z"
    },
    "tags": []
   },
   "outputs": [
    {
     "name": "stdout",
     "output_type": "stream",
     "text": [
      "196/196 [==============================] - 7s 36ms/step\n"
     ]
    }
   ],
   "source": [
    "lstm_preds = lstm_model.predict(x_data_test, verbose=1)"
   ]
  },
  {
   "cell_type": "markdown",
   "id": "7524e989-1db3-4e48-a0f0-eb146333c33d",
   "metadata": {},
   "source": [
    "## Dense only network"
   ]
  },
  {
   "cell_type": "code",
   "execution_count": 36,
   "id": "37e63158-c3a7-462e-97f5-e0d5d63f7b8b",
   "metadata": {
    "execution": {
     "iopub.execute_input": "2022-05-04T19:46:21.025964Z",
     "iopub.status.busy": "2022-05-04T19:46:21.025380Z",
     "iopub.status.idle": "2022-05-04T19:46:21.160216Z",
     "shell.execute_reply": "2022-05-04T19:46:21.159257Z",
     "shell.execute_reply.started": "2022-05-04T19:46:21.025895Z"
    },
    "tags": []
   },
   "outputs": [],
   "source": [
    "input_shape = (x_data_train.shape[1])\n",
    "dense_model = get_compiled_dense_model(input_shape)"
   ]
  },
  {
   "cell_type": "code",
   "execution_count": 37,
   "id": "484d3fab-a11a-44d9-9571-5a1c254d4179",
   "metadata": {
    "execution": {
     "iopub.execute_input": "2022-05-04T19:46:21.161529Z",
     "iopub.status.busy": "2022-05-04T19:46:21.161339Z",
     "iopub.status.idle": "2022-05-04T19:46:35.421374Z",
     "shell.execute_reply": "2022-05-04T19:46:35.419759Z",
     "shell.execute_reply.started": "2022-05-04T19:46:21.161507Z"
    },
    "scrolled": true,
    "tags": []
   },
   "outputs": [
    {
     "name": "stdout",
     "output_type": "stream",
     "text": [
      "Epoch 1/15\n",
      "39/39 [==============================] - 2s 28ms/step - loss: 3817.4158 - val_loss: 656.4299\n",
      "Epoch 2/15\n",
      "39/39 [==============================] - 1s 23ms/step - loss: 1166.4181 - val_loss: 508.9594\n",
      "Epoch 3/15\n",
      "39/39 [==============================] - 1s 22ms/step - loss: 927.8615 - val_loss: 500.0623\n",
      "Epoch 4/15\n",
      "39/39 [==============================] - 1s 23ms/step - loss: 854.7828 - val_loss: 503.3517\n",
      "Epoch 5/15\n",
      "39/39 [==============================] - 1s 23ms/step - loss: 803.1390 - val_loss: 510.7741\n",
      "Epoch 6/15\n",
      "39/39 [==============================] - 1s 22ms/step - loss: 779.7430 - val_loss: 511.3851\n",
      "Epoch 7/15\n",
      "39/39 [==============================] - 1s 23ms/step - loss: 767.3316 - val_loss: 553.3951\n",
      "Epoch 8/15\n",
      "39/39 [==============================] - 1s 23ms/step - loss: 770.2993 - val_loss: 490.2773\n",
      "Epoch 9/15\n",
      "39/39 [==============================] - 1s 23ms/step - loss: 747.9975 - val_loss: 498.9408\n",
      "Epoch 10/15\n",
      "39/39 [==============================] - 1s 22ms/step - loss: 739.6093 - val_loss: 547.8868\n",
      "Epoch 11/15\n",
      "39/39 [==============================] - 1s 23ms/step - loss: 728.3028 - val_loss: 497.0652\n",
      "Epoch 12/15\n",
      "39/39 [==============================] - 1s 23ms/step - loss: 731.2147 - val_loss: 555.2462\n",
      "Epoch 13/15\n",
      "39/39 [==============================] - 1s 23ms/step - loss: 728.2786 - val_loss: 488.7043\n",
      "Epoch 14/15\n",
      "39/39 [==============================] - 1s 23ms/step - loss: 722.1386 - val_loss: 486.3189\n",
      "Epoch 15/15\n",
      "39/39 [==============================] - 1s 23ms/step - loss: 709.3300 - val_loss: 517.8051\n"
     ]
    }
   ],
   "source": [
    "history = dense_model.fit(\n",
    "    branch_input(x_data_train),\n",
    "    y_data_train,\n",
    "    epochs=15,\n",
    "    batch_size=512,\n",
    "    validation_data=(\n",
    "        branch_input(x_data_test),\n",
    "        y_data_test\n",
    "    )\n",
    ")"
   ]
  },
  {
   "cell_type": "code",
   "execution_count": 38,
   "id": "7c9fce9f-883a-4941-8f83-d963d0b8c7cb",
   "metadata": {
    "execution": {
     "iopub.execute_input": "2022-05-04T19:46:35.424326Z",
     "iopub.status.busy": "2022-05-04T19:46:35.423820Z",
     "iopub.status.idle": "2022-05-04T19:46:36.170641Z",
     "shell.execute_reply": "2022-05-04T19:46:36.168896Z",
     "shell.execute_reply.started": "2022-05-04T19:46:35.424267Z"
    },
    "tags": []
   },
   "outputs": [
    {
     "name": "stdout",
     "output_type": "stream",
     "text": [
      "196/196 [==============================] - 1s 3ms/step\n"
     ]
    }
   ],
   "source": [
    "dense_preds = dense_model.predict(branch_input(x_data_test), verbose=1)"
   ]
  },
  {
   "cell_type": "markdown",
   "id": "727f61eb-c02a-438e-992c-5673953e8ccf",
   "metadata": {},
   "source": [
    "## Dense + LSTM\n",
    "Maybe we need to let the network do its sampling"
   ]
  },
  {
   "cell_type": "code",
   "execution_count": 39,
   "id": "b07be680-5af3-4c62-be8b-10c5fbb6185d",
   "metadata": {
    "execution": {
     "iopub.execute_input": "2022-05-04T19:46:36.175345Z",
     "iopub.status.busy": "2022-05-04T19:46:36.174788Z",
     "iopub.status.idle": "2022-05-04T19:46:36.464875Z",
     "shell.execute_reply": "2022-05-04T19:46:36.464074Z",
     "shell.execute_reply.started": "2022-05-04T19:46:36.175278Z"
    },
    "tags": []
   },
   "outputs": [],
   "source": [
    "input_shape = (x_data_train.shape[1])\n",
    "dense_lstm_model = get_compiled_dense_lstm_model(input_shape)"
   ]
  },
  {
   "cell_type": "code",
   "execution_count": 40,
   "id": "2b11b295-07d7-4823-8000-6296c3896366",
   "metadata": {
    "execution": {
     "iopub.execute_input": "2022-05-04T19:46:36.466179Z",
     "iopub.status.busy": "2022-05-04T19:46:36.465996Z",
     "iopub.status.idle": "2022-05-04T19:51:20.978640Z",
     "shell.execute_reply": "2022-05-04T19:51:20.976962Z",
     "shell.execute_reply.started": "2022-05-04T19:46:36.466157Z"
    },
    "scrolled": true,
    "tags": []
   },
   "outputs": [
    {
     "name": "stdout",
     "output_type": "stream",
     "text": [
      "Epoch 1/15\n",
      "20/20 [==============================] - 21s 976ms/step - loss: 6437.4268 - val_loss: 4837.7080\n",
      "Epoch 2/15\n",
      "20/20 [==============================] - 19s 952ms/step - loss: 5271.6968 - val_loss: 4101.2905\n",
      "Epoch 3/15\n",
      "20/20 [==============================] - 19s 935ms/step - loss: 4702.2793 - val_loss: 3754.5151\n",
      "Epoch 4/15\n",
      "20/20 [==============================] - 19s 945ms/step - loss: 4380.5244 - val_loss: 3495.8928\n",
      "Epoch 5/15\n",
      "20/20 [==============================] - 19s 946ms/step - loss: 4113.8252 - val_loss: 3266.1738\n",
      "Epoch 6/15\n",
      "20/20 [==============================] - 19s 950ms/step - loss: 3871.0989 - val_loss: 3050.0615\n",
      "Epoch 7/15\n",
      "20/20 [==============================] - 19s 938ms/step - loss: 3640.8018 - val_loss: 2850.5850\n",
      "Epoch 8/15\n",
      "20/20 [==============================] - 19s 936ms/step - loss: 3427.3882 - val_loss: 2665.4004\n",
      "Epoch 9/15\n",
      "20/20 [==============================] - 19s 956ms/step - loss: 3230.4998 - val_loss: 2493.8164\n",
      "Epoch 10/15\n",
      "20/20 [==============================] - 19s 963ms/step - loss: 3045.0835 - val_loss: 2334.2371\n",
      "Epoch 11/15\n",
      "20/20 [==============================] - 19s 945ms/step - loss: 2873.3103 - val_loss: 2184.8108\n",
      "Epoch 12/15\n",
      "20/20 [==============================] - 19s 939ms/step - loss: 2709.1672 - val_loss: 2038.6832\n",
      "Epoch 13/15\n",
      "20/20 [==============================] - 19s 940ms/step - loss: 2551.8511 - val_loss: 1905.1066\n",
      "Epoch 14/15\n",
      "20/20 [==============================] - 19s 943ms/step - loss: 2406.2939 - val_loss: 1782.0284\n",
      "Epoch 15/15\n",
      "20/20 [==============================] - 19s 947ms/step - loss: 2269.5818 - val_loss: 1668.0682\n"
     ]
    }
   ],
   "source": [
    "history = dense_lstm_model.fit(\n",
    "    branch_input(x_data_train),\n",
    "    y_data_train.round(),\n",
    "    epochs=15,\n",
    "    batch_size=1024,\n",
    "    validation_data=(\n",
    "        branch_input(x_data_test),\n",
    "        y_data_test.round()\n",
    "    )\n",
    ")"
   ]
  },
  {
   "cell_type": "code",
   "execution_count": 41,
   "id": "89a2cab5-e24a-426e-8201-fda52b1d7b7a",
   "metadata": {
    "execution": {
     "iopub.execute_input": "2022-05-04T19:51:20.981612Z",
     "iopub.status.busy": "2022-05-04T19:51:20.981233Z",
     "iopub.status.idle": "2022-05-04T19:51:31.849725Z",
     "shell.execute_reply": "2022-05-04T19:51:31.848121Z",
     "shell.execute_reply.started": "2022-05-04T19:51:20.981564Z"
    },
    "tags": []
   },
   "outputs": [
    {
     "name": "stdout",
     "output_type": "stream",
     "text": [
      "196/196 [==============================] - 11s 53ms/step\n"
     ]
    }
   ],
   "source": [
    "dense_lstm_preds = dense_lstm_model.predict(branch_input(x_data_test), verbose=1)"
   ]
  },
  {
   "cell_type": "markdown",
   "id": "4827fd06-d181-4755-91f5-19c055add842",
   "metadata": {},
   "source": [
    "# HR Prediction results"
   ]
  },
  {
   "cell_type": "code",
   "execution_count": 42,
   "id": "23adf632-16ba-4075-ac2b-6af5aeb30d44",
   "metadata": {
    "execution": {
     "iopub.execute_input": "2022-05-04T19:51:31.852599Z",
     "iopub.status.busy": "2022-05-04T19:51:31.852081Z",
     "iopub.status.idle": "2022-05-04T19:51:31.896329Z",
     "shell.execute_reply": "2022-05-04T19:51:31.895657Z",
     "shell.execute_reply.started": "2022-05-04T19:51:31.852515Z"
    },
    "tags": []
   },
   "outputs": [],
   "source": [
    "all_results_df = pd.DataFrame({\"lstm_preds\": np.squeeze(lstm_preds),\n",
    "                               \"y_test\": np.squeeze(y_data_test),\n",
    "                               \"dense_preds\": np.squeeze(dense_preds),\n",
    "                               \"dense_lstm_preds\": np.squeeze(dense_lstm_preds)})"
   ]
  },
  {
   "cell_type": "code",
   "execution_count": 43,
   "id": "560145a4-07c1-4830-aab9-bb67e19b7d48",
   "metadata": {
    "execution": {
     "iopub.execute_input": "2022-05-04T19:51:31.897442Z",
     "iopub.status.busy": "2022-05-04T19:51:31.897252Z",
     "iopub.status.idle": "2022-05-04T19:51:31.931568Z",
     "shell.execute_reply": "2022-05-04T19:51:31.930918Z",
     "shell.execute_reply.started": "2022-05-04T19:51:31.897419Z"
    },
    "tags": []
   },
   "outputs": [],
   "source": [
    "all_results_df[\"error_lstm\"] = compute_error(all_results_df[\"lstm_preds\"],\n",
    "                                             all_results_df[\"y_test\"])\n",
    "\n",
    "all_results_df[\"error_dense\"] = compute_error(all_results_df[\"dense_preds\"],\n",
    "                                             all_results_df[\"y_test\"])\n",
    "\n",
    "all_results_df[\"error_dense_lstm\"] = compute_error(all_results_df[\"dense_lstm_preds\"],\n",
    "                                             all_results_df[\"y_test\"])"
   ]
  },
  {
   "cell_type": "code",
   "execution_count": 44,
   "id": "807f8728-46d7-40e1-90b3-859e9e7c542b",
   "metadata": {
    "execution": {
     "iopub.execute_input": "2022-05-04T19:51:31.932679Z",
     "iopub.status.busy": "2022-05-04T19:51:31.932464Z",
     "iopub.status.idle": "2022-05-04T19:51:31.966522Z",
     "shell.execute_reply": "2022-05-04T19:51:31.965848Z",
     "shell.execute_reply.started": "2022-05-04T19:51:31.932656Z"
    },
    "tags": []
   },
   "outputs": [
    {
     "data": {
      "text/plain": [
       "error_lstm         -14.199936\n",
       "error_dense         15.268671\n",
       "error_dense_lstm   -43.592400\n",
       "dtype: float64"
      ]
     },
     "execution_count": 44,
     "metadata": {},
     "output_type": "execute_result"
    }
   ],
   "source": [
    "all_results_df[[\"error_lstm\", \"error_dense\", \"error_dense_lstm\"]].mean() * 100"
   ]
  },
  {
   "cell_type": "markdown",
   "id": "8ebda99f-67e8-4689-bfd6-cb176771536e",
   "metadata": {},
   "source": [
    "## Plot of HR vs Error"
   ]
  },
  {
   "cell_type": "code",
   "execution_count": 46,
   "id": "1b2bb803-f585-401d-a953-09d20fa274a0",
   "metadata": {
    "execution": {
     "iopub.execute_input": "2022-05-04T19:52:13.365961Z",
     "iopub.status.busy": "2022-05-04T19:52:13.365073Z",
     "iopub.status.idle": "2022-05-04T19:52:13.781002Z",
     "shell.execute_reply": "2022-05-04T19:52:13.780239Z",
     "shell.execute_reply.started": "2022-05-04T19:52:13.365865Z"
    },
    "tags": []
   },
   "outputs": [
    {
     "data": {
      "image/png": "[encoded data removed]",
      "text/plain": [
       "<Figure size 432x288 with 1 Axes>"
      ]
     },
     "metadata": {
      "needs_background": "light"
     },
     "output_type": "display_data"
    }
   ],
   "source": [
    "ax1 = all_results_df.plot(kind=\"scatter\", x=\"y_test\", color=\"r\",\n",
    "                    y=\"error_lstm\", label=\"lstm\")\n",
    "\n",
    "ax2 = all_results_df.plot(kind=\"scatter\", x=\"y_test\", color=\"g\",\n",
    "                    y=\"error_dense\", label=\"dense\", ax=ax1)\n",
    "\n",
    "ax3 = all_results_df.plot(kind=\"scatter\", x=\"y_test\", color=\"b\",\n",
    "                    y=\"error_dense_lstm\", label=\"dense_lstm\", ax=ax2)"
   ]
  },
  {
   "cell_type": "code",
   "execution_count": 56,
   "id": "10b4f2fd-5449-4916-8cf7-3d30c2dca219",
   "metadata": {
    "execution": {
     "iopub.execute_input": "2022-05-04T22:03:17.982011Z",
     "iopub.status.busy": "2022-05-04T22:03:17.981576Z",
     "iopub.status.idle": "2022-05-04T22:03:18.204377Z",
     "shell.execute_reply": "2022-05-04T22:03:18.203028Z",
     "shell.execute_reply.started": "2022-05-04T22:03:17.981965Z"
    }
   },
   "outputs": [
    {
     "data": {
      "text/plain": [
       "<AxesSubplot:ylabel='Frequency'>"
      ]
     },
     "execution_count": 56,
     "metadata": {},
     "output_type": "execute_result"
    },
    {
     "data": {
      "image/png": "[encoded data removed]",
      "text/plain": [
       "<Figure size 432x288 with 1 Axes>"
      ]
     },
     "metadata": {
      "needs_background": "light"
     },
     "output_type": "display_data"
    }
   ],
   "source": [
    "pat_data_df[[\"HR[bpm]\"]].round().plot(kind=\"hist\")"
   ]
  },
  {
   "cell_type": "markdown",
   "id": "47e0ccc1-d61b-42c2-bebc-474703c8602c",
   "metadata": {},
   "source": [
    "## Conclusions:\n",
    "\n",
    "most of our data has labels around 60 bpm, and the error matches this trend:\n",
    "- overestimating the 40 bpm\n",
    "- and understimating the 60+ cases"
   ]
  },
  {
   "cell_type": "code",
   "execution_count": null,
   "id": "b98b0bac-fa50-464b-9a98-35e01ec0e5cc",
   "metadata": {},
   "outputs": [],
   "source": []
  }
 ],
 "metadata": {
  "kernelspec": {
   "display_name": "Python 3",
   "language": "python",
   "name": "python3"
  },
  "language_info": {
   "codemirror_mode": {
    "name": "ipython",
    "version": 3
   },
   "file_extension": ".py",
   "mimetype": "text/x-python",
   "name": "python",
   "nbconvert_exporter": "python",
   "pygments_lexer": "ipython3",
   "version": "3.6.9"
  }
 },
 "nbformat": 4,
 "nbformat_minor": 5
}
